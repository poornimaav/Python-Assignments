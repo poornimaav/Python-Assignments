{
 "cells": [
  {
   "cell_type": "code",
   "execution_count": 2,
   "id": "865bbc80",
   "metadata": {},
   "outputs": [
    {
     "name": "stdout",
     "output_type": "stream",
     "text": [
      "1505\n",
      "1540\n",
      "1575\n",
      "1610\n",
      "1645\n",
      "1680\n",
      "1715\n",
      "1750\n",
      "1785\n",
      "1820\n",
      "1855\n",
      "1890\n",
      "1925\n",
      "1960\n",
      "1995\n",
      "2030\n",
      "2065\n",
      "2100\n",
      "2135\n",
      "2170\n",
      "2205\n",
      "2240\n",
      "2275\n",
      "2310\n",
      "2345\n",
      "2380\n",
      "2415\n",
      "2450\n",
      "2485\n",
      "2520\n",
      "2555\n",
      "2590\n",
      "2625\n",
      "2660\n",
      "2695\n"
     ]
    }
   ],
   "source": [
    "# 1. Write a Python program to find those numbers which are divisible by 7 and multiple of 5, between 1500 and 2700 (both included)\n",
    "\n",
    "for i in range(1500, 2701):\n",
    "    if (i%7==0) and (i%5==0):\n",
    "        print(i)"
   ]
  },
  {
   "cell_type": "code",
   "execution_count": 3,
   "id": "a8ba40c3",
   "metadata": {},
   "outputs": [
    {
     "name": "stdout",
     "output_type": "stream",
     "text": [
      "0\n",
      "1\n",
      "2\n",
      "4\n",
      "5\n"
     ]
    }
   ],
   "source": [
    "# 2. Write a Python program that prints all the numbers from 0 to 6 except 3 and 6.\n",
    "# Note : Use 'continue' statement.\n",
    "# Expected Output : 0 1 2 4 5\n",
    "\n",
    "for i in range(0,6):\n",
    "    if i==3:\n",
    "        continue\n",
    "    else:\n",
    "        print(i)\n"
   ]
  },
  {
   "cell_type": "code",
   "execution_count": 8,
   "id": "b81ac9e3",
   "metadata": {},
   "outputs": [
    {
     "name": "stdout",
     "output_type": "stream",
     "text": [
      "1\n",
      "2\n",
      "Fizz\n",
      "4\n",
      "Buzz\n",
      "Fizz\n",
      "7\n",
      "8\n",
      "Fizz\n",
      "Buzz\n",
      "11\n",
      "Fizz\n",
      "13\n",
      "14\n",
      "FizzBuzz\n",
      "16\n",
      "17\n",
      "Fizz\n",
      "19\n",
      "Buzz\n",
      "Fizz\n",
      "22\n",
      "23\n",
      "Fizz\n",
      "Buzz\n",
      "26\n",
      "Fizz\n",
      "28\n",
      "29\n",
      "FizzBuzz\n",
      "31\n",
      "32\n",
      "Fizz\n",
      "34\n",
      "Buzz\n",
      "Fizz\n",
      "37\n",
      "38\n",
      "Fizz\n",
      "Buzz\n",
      "41\n",
      "Fizz\n",
      "43\n",
      "44\n",
      "FizzBuzz\n",
      "46\n",
      "47\n",
      "Fizz\n",
      "49\n"
     ]
    }
   ],
   "source": [
    "# Write a Python program which iterates the integers from 1 to 50. For multiples of three print \"Fizz\" instead of the number and for the multiples of five print \"Buzz\". For numbers which are multiples of both three and five print \"FizzBuzz\".\n",
    "# Sample Output :\n",
    "# fizzbuzz\n",
    "# 1\n",
    "# 2\n",
    "# fizz\n",
    "# 4\n",
    "# Buzz\n",
    "\n",
    "for i in range(1,50):\n",
    "    if i % 3 == 0 and i % 5 == 0:\n",
    "        print(\"FizzBuzz\")\n",
    "    elif i % 5 == 0:\n",
    "        print(\"Buzz\")\n",
    "    elif i % 3 == 0:\n",
    "        print(\"Fizz\")\n",
    "    else:\n",
    "        print(i)"
   ]
  },
  {
   "cell_type": "code",
   "execution_count": 11,
   "id": "0d2efe67",
   "metadata": {},
   "outputs": [
    {
     "name": "stdout",
     "output_type": "stream",
     "text": [
      "x: 1\n",
      "y: 4\n",
      "z: 4\n",
      "isosceles triangle\n"
     ]
    }
   ],
   "source": [
    "# 4. Write a Python program to check a triangle is equilateral, isosceles or scalene.\n",
    "# Note :\n",
    "# An equilateral triangle is a triangle in which all three sides are equal.\n",
    "# A scalene triangle is a triangle that has three unequal sides.\n",
    "# An isosceles triangle is a triangle with two equal sides.\n",
    "# Expected Output:\n",
    "# Input lengths of the triangle sides:                                    \n",
    "# x: 6                                                                    \n",
    "# y: 8                                                                    \n",
    "# z: 12                                                                   \n",
    "# Scalene triangle \n",
    "\n",
    "x=int(input(\"x: \"))\n",
    "y=int(input(\"y: \"))\n",
    "z=int(input(\"z: \"))\n",
    "\n",
    "if x==y==z:\n",
    "    print(\"Its a equilateral Triangle\")\n",
    "elif x!=y!=z:\n",
    "    print(\"Scalene triangle\")\n",
    "else:\n",
    "    print(\"isosceles triangle\")\n",
    "        "
   ]
  },
  {
   "cell_type": "code",
   "execution_count": 71,
   "id": "e6901230",
   "metadata": {},
   "outputs": [
    {
     "name": "stdout",
     "output_type": "stream",
     "text": [
      "enter a number: 89\n",
      "enter a number: 5\n",
      "enter a number: 45\n",
      "enter a number: 0\n",
      "The sum is: 139\n",
      "The avearage is: 46.333333333333336\n"
     ]
    }
   ],
   "source": [
    "# 5. Write a Python program to calculate the sum and average of n integer numbers (input from the user). Input 0 to finish\n",
    "\n",
    "num=1\n",
    "sum1=0\n",
    "count=0\n",
    "while num!=0:\n",
    "    num= int(input(\"enter a number: \"))\n",
    "    sum1= sum1+num\n",
    "    count+=1\n",
    "average= sum1/(count-1)\n",
    "print(\"The sum is:\", sum1)\n",
    "print(\"The avearage is:\", average)"
   ]
  },
  {
   "cell_type": "code",
   "execution_count": 38,
   "id": "d789d3bd",
   "metadata": {},
   "outputs": [
    {
     "name": "stdout",
     "output_type": "stream",
     "text": [
      "1\n",
      "22\n",
      "333\n",
      "4444\n",
      "55555\n",
      "666666\n",
      "7777777\n",
      "88888888\n",
      "999999999\n"
     ]
    }
   ],
   "source": [
    "#  6. Write a Python program to construct the following pattern, using a nested loop number.\n",
    "# 1\n",
    "# 22\n",
    "# 333\n",
    "# 4444\n",
    "# 55555\n",
    "# 666666\n",
    "# 7777777\n",
    "# 88888888\n",
    "# 999999999\n",
    "\n",
    "\n",
    "for i in range(1, 10):\n",
    "    print(str(i)*i)"
   ]
  },
  {
   "cell_type": "code",
   "execution_count": 42,
   "id": "084cbac8",
   "metadata": {},
   "outputs": [
    {
     "name": "stdout",
     "output_type": "stream",
     "text": [
      "9\n"
     ]
    }
   ],
   "source": [
    "# 7. Write a Python program that counts the number of elements within a list that are greater than 30.\n",
    "\n",
    "list1=[55, 56, 12, 50, 89, 34, 90, 34, 45, 29,92]\n",
    "count=0\n",
    "for i in list1:\n",
    "    if i>30:\n",
    "        count+=1 \n",
    "print(count)"
   ]
  },
  {
   "cell_type": "code",
   "execution_count": 44,
   "id": "1e10fa94",
   "metadata": {},
   "outputs": [
    {
     "name": "stdout",
     "output_type": "stream",
     "text": [
      "Enter the length: 3\n",
      "Enter the Breadth: 7\n",
      "Not a square\n"
     ]
    }
   ],
   "source": [
    "# 8. Take values of length and breadth of a rectangle from user and check if it is square or not.\n",
    "\n",
    "length= input(\"Enter the length: \")\n",
    "breadth= input(\"Enter the Breadth: \")\n",
    "\n",
    "if length==breadth:\n",
    "    print(\"It's a square\")\n",
    "else:\n",
    "    print(\"Not a square\")"
   ]
  },
  {
   "cell_type": "code",
   "execution_count": 67,
   "id": "4c86abbe",
   "metadata": {},
   "outputs": [
    {
     "name": "stdout",
     "output_type": "stream",
     "text": [
      "Enter the number of quantity: 3\n",
      "Amount to be paid is:  270.0\n"
     ]
    }
   ],
   "source": [
    "# 9. A shop will give discount of 10% if the cost of purchased quantity is more than 1000.\n",
    "# Ask user for quantity\n",
    "# Suppose, one unit will cost 100.\n",
    "# Judge and print total cost for user.\n",
    "\n",
    "quant=int(input(\"Enter the number of quantity: \"))\n",
    "cost= quant*100\n",
    "\n",
    "dis=10\n",
    "Amount_to_be_paid= cost- (cost * dis/100)\n",
    "print(\"Amount to be paid is: \",Amount_to_be_paid)\n",
    "\n"
   ]
  },
  {
   "cell_type": "code",
   "execution_count": 70,
   "id": "98f69678",
   "metadata": {},
   "outputs": [
    {
     "name": "stdout",
     "output_type": "stream",
     "text": [
      "enter the salary: 100\n",
      "enter the year of service: 6\n",
      "105.0\n"
     ]
    }
   ],
   "source": [
    "# 10. A company decided to give bonus of 5% to employee if his/her year of service is more than 5 years.\n",
    "# Ask user for their salary and year of service and print the net bonus amount.\n",
    "\n",
    "sal=int(input(\"enter the salary: \"))\n",
    "service=int(input(\"enter the year of service: \"))\n",
    "\n",
    "if service>5:\n",
    "    sal=sal+(sal*5/100)\n",
    "    print(sal)\n"
   ]
  },
  {
   "cell_type": "code",
   "execution_count": 80,
   "id": "b38bc0b4",
   "metadata": {},
   "outputs": [
    {
     "name": "stdout",
     "output_type": "stream",
     "text": [
      "Enter your Marks: 89\n",
      "A\n"
     ]
    }
   ],
   "source": [
    "# 11. A school has following rules for grading system:\n",
    "# a. Below 25 - F\n",
    "# b. 25 to 45 - E\n",
    "# c. 45 to 50 - D\n",
    "# d. 50 to 60 - C\n",
    "# e. 60 to 80 - B\n",
    "# f. Above 80 - A\n",
    "# Ask user to enter marks and print the corresponding grade.\n",
    "\n",
    "\n",
    "marks=int(input(\"Enter your Marks: \"))\n",
    "if marks<25:\n",
    "    print(\"F\")\n",
    "elif 25<=marks<=45:\n",
    "    print(\"E\")\n",
    "elif 45<=marks<=50:\n",
    "    print(\"D\")\n",
    "elif 50<=marks<=60:\n",
    "    print(\"C\")\n",
    "elif 60<=marks<=80:\n",
    "    print(\"B\")\n",
    "elif marks>80:\n",
    "    print(\"A\")"
   ]
  },
  {
   "cell_type": "code",
   "execution_count": 84,
   "id": "b1fd6b09",
   "metadata": {},
   "outputs": [
    {
     "name": "stdout",
     "output_type": "stream",
     "text": [
      "enter number of class held: 100\n",
      "enter number of class attended: 78\n",
      "78.0 %\n",
      "Allowed for exam\n"
     ]
    }
   ],
   "source": [
    "# 12. A student will not be allowed to sit in exam if his/her attendence is less than 75%.\n",
    "# Take following input from user\n",
    "# Number of classes held\n",
    "# Number of classes attended.\n",
    "# And print\n",
    "# percentage of class attended\n",
    "# Is student is allowed to sit in exam or not.\n",
    "\n",
    "a= int(input(\"enter number of class held: \"))\n",
    "b=int(input(\"enter number of class attended: \"))\n",
    "percent= (b/a *100)\n",
    "print(percent,\"%\")\n",
    "if percent>=75:\n",
    "    print(\"Allowed for exam\")\n",
    "else:\n",
    "    print(\"Not allowed\")"
   ]
  },
  {
   "cell_type": "code",
   "execution_count": 89,
   "id": "abf3921d",
   "metadata": {},
   "outputs": [
    {
     "name": "stdout",
     "output_type": "stream",
     "text": [
      "enter the number: 6\n",
      "enter the number: 6\n",
      "enter the number: 6\n",
      "enter the number: 6\n",
      "enter the number: 6\n",
      "enter the number: 6\n",
      "enter the number: 6\n",
      "enter the number: 6\n",
      "enter the number: 6\n",
      "enter the number: 6\n",
      "6.0\n"
     ]
    }
   ],
   "source": [
    "# 13. Take 10 integers from keyboard using loop and print their average value on the screen.\n",
    "\n",
    "count=0\n",
    "num=0\n",
    "while count<10:\n",
    "    num+=int(input(\"enter the number: \"))\n",
    "    count+=1\n",
    "avg=(num/count)\n",
    "print(avg)"
   ]
  },
  {
   "cell_type": "code",
   "execution_count": 91,
   "id": "6ee4b058",
   "metadata": {},
   "outputs": [
    {
     "name": "stdout",
     "output_type": "stream",
     "text": [
      "enter a number: 4\n",
      "4 * 1 = 4\n",
      "4 * 2 = 8\n",
      "4 * 3 = 12\n",
      "4 * 4 = 16\n",
      "4 * 5 = 20\n",
      "4 * 6 = 24\n",
      "4 * 7 = 28\n",
      "4 * 8 = 32\n",
      "4 * 9 = 36\n",
      "4 * 10 = 40\n"
     ]
    }
   ],
   "source": [
    "\n",
    "# 14. Print multiplication table of 24, 50 and 29 using loop.\n",
    "\n",
    "num=int(input(\"enter a number: \"))\n",
    "for i in range(1,11):\n",
    "    print(str(num),\"*\",str(i),\"=\", num*i)\n",
    "    "
   ]
  },
  {
   "cell_type": "code",
   "execution_count": 192,
   "id": "241eabf4",
   "metadata": {},
   "outputs": [
    {
     "name": "stdout",
     "output_type": "stream",
     "text": [
      "Enter numbers: 45\n",
      "Enter q to quit: \n",
      "Enter numbers: 56\n",
      "Enter q to quit: q\n",
      "The average is: 50.5\n",
      "The product is: 2520\n"
     ]
    }
   ],
   "source": [
    "# 15. Take integer inputs from user until he/she presses q ( Ask to press q to quit after every integer input ). Print average and product of all numbers.\n",
    "\n",
    "num=1\n",
    "sum=0\n",
    "prod=1\n",
    "count=0\n",
    "while num!=0:\n",
    "    num=int(input(\"Enter numbers: \"))\n",
    "    sum+=num\n",
    "    prod*=num\n",
    "    count+=1\n",
    "    quit=input(\"Enter q to quit: \")\n",
    "    if quit==\"q\":\n",
    "        break\n",
    "avg=sum/count\n",
    "print(\"The average is:\", avg)\n",
    "print(\"The product is:\", prod)"
   ]
  },
  {
   "cell_type": "code",
   "execution_count": 128,
   "id": "4cfa6f8f",
   "metadata": {},
   "outputs": [
    {
     "name": "stdout",
     "output_type": "stream",
     "text": [
      "enter the number of elements: 3\n",
      "enter values: 1\n",
      "enter values: 2\n",
      "enter values: 3\n",
      "Enter a number to check:  2\n",
      "[1, 3]\n"
     ]
    }
   ],
   "source": [
    "# 16. Take inputs from user to make a list. Again take one input from user and search it in the list and delete that element, if found. Iterate over list using for loop.\n",
    "\n",
    "n= int(input(\"enter the number of elements: \"))\n",
    "list1=[]\n",
    "for i in range(n):\n",
    "    num=int(input(\"enter values: \"))\n",
    "    list1.append(num)\n",
    "x=int(input(\"Enter a number to check:  \"))\n",
    "for j in list1:\n",
    "    if x==j:\n",
    "        list1.remove(x)\n",
    "print(list1)"
   ]
  },
  {
   "cell_type": "code",
   "execution_count": 177,
   "id": "edb9fdac",
   "metadata": {},
   "outputs": [
    {
     "name": "stdout",
     "output_type": "stream",
     "text": [
      "even list: [2, 4, 6, 8, 10, 12, 14, 16, 18, 20, 22, 24, 26, 28, 30, 32, 34, 36, 38, 40, 42, 44, 46, 48, 50, 52, 54, 56, 58, 60, 62, 64, 66, 68, 70, 72, 74, 76, 78, 80, 82, 84, 86, 88, 90, 92, 94, 96, 98, 100]\n",
      "odd list: [1, 3, 5, 7, 9, 11, 13, 15, 17, 19, 21, 23, 25, 27, 29, 31, 33, 35, 37, 39, 41, 43, 45, 47, 49, 51, 53, 55, 57, 59, 61, 63, 65, 67, 69, 71, 73, 75, 77, 79, 81, 83, 85, 87, 89, 91, 93, 95, 97, 99]\n",
      "prime list: [2, 3, 5, 7, 11, 13, 17, 19, 23, 29, 31, 37, 41, 43, 47, 53, 59, 61, 67, 71, 73, 79, 83, 89, 97]\n"
     ]
    }
   ],
   "source": [
    "# 17. Using range(1,101), make three list, \n",
    "# one containing all even numbers\n",
    "# one containing all odd numbers \n",
    "# One containing only prime numbers..\n",
    "even=[]\n",
    "odd=[]\n",
    "prime=[]\n",
    "def fun(n):\n",
    "    if n<2:        \n",
    "        return False\n",
    "    for j in range(2, int(n**0.5)+1):\n",
    "        if n%j==0:\n",
    "            return False\n",
    "    return True\n",
    "        \n",
    "for i in range(1, 101):\n",
    "    if i%2==0:\n",
    "        even.append(i)\n",
    "    else:\n",
    "        odd.append(i)\n",
    "    \n",
    "    if fun(i):\n",
    "        prime.append(i)\n",
    "        \n",
    "print(\"even list:\", even)\n",
    "print(\"odd list:\", odd)\n",
    "print(\"prime list:\", prime)"
   ]
  },
  {
   "cell_type": "code",
   "execution_count": 180,
   "id": "5e644793",
   "metadata": {},
   "outputs": [
    {
     "name": "stdout",
     "output_type": "stream",
     "text": [
      "divisible by 4:  [4, 8, 12, 16, 20, 24, 28, 32, 36, 40, 44, 48, 52, 56, 60, 64, 68, 72, 76, 80, 84, 88, 92, 96, 100]\n",
      "divisible by 6:  [6, 12, 18, 24, 30, 36, 42, 48, 54, 60, 66, 72, 78, 84, 90, 96]\n",
      "divisible by 8:  [8, 16, 24, 32, 40, 48, 56, 64, 72, 80, 88, 96]\n",
      "divisible by 10:  [10, 20, 30, 40, 50, 60, 70, 80, 90, 100]\n",
      "divisible by 3:  [6, 12, 18, 24, 30, 36, 42, 48, 54, 60, 66, 72, 78, 84, 90, 96, 3, 9, 15, 21, 27, 33, 39, 45, 51, 57, 63, 69, 75, 81, 87, 93, 99]\n",
      "divisible by 5:  [10, 20, 30, 40, 50, 60, 70, 80, 90, 100, 5, 15, 25, 35, 45, 55, 65, 75, 85, 95]\n",
      "divisible by 7:  [14, 28, 42, 56, 70, 84, 98, 7, 21, 35, 49, 63, 77, 91]\n",
      "divisible by 9:  [18, 36, 54, 72, 90, 9, 27, 45, 63, 81, 99]\n"
     ]
    }
   ],
   "source": [
    "# 18. From the two list obtained in previous question, make new lists, containing only numbers which are divisible by 4, 6, 8, 10, 3, 5, 7 and 9 in separate lists.\n",
    "\n",
    "list1=even+odd\n",
    "\n",
    "div4=[]\n",
    "div6=[]\n",
    "div8=[]\n",
    "div10=[]\n",
    "div3=[]\n",
    "div5=[]\n",
    "div7=[]\n",
    "div9=[]\n",
    "\n",
    "\n",
    "div4= [num for num in list1 if num%4==0]\n",
    "div6= [num for num in list1 if num%6==0]\n",
    "div8= [num for num in list1 if num%8==0]\n",
    "div10= [num for num in list1 if num%10==0]\n",
    "div3= [num for num in list1 if num%3==0]\n",
    "div5= [num for num in list1 if num%5==0]\n",
    "div7= [num for num in list1 if num%7==0]\n",
    "div9= [num for num in list1 if num%9==0]\n",
    "\n",
    "print(\"divisible by 4: \", div4)\n",
    "print(\"divisible by 6: \", div6)\n",
    "print(\"divisible by 8: \", div8)\n",
    "print(\"divisible by 10: \", div10)\n",
    "print(\"divisible by 3: \", div3)\n",
    "print(\"divisible by 5: \", div5)\n",
    "print(\"divisible by 7: \", div7)\n",
    "print(\"divisible by 9: \", div9)\n"
   ]
  },
  {
   "cell_type": "code",
   "execution_count": 188,
   "id": "bf102124",
   "metadata": {},
   "outputs": [
    {
     "name": "stdout",
     "output_type": "stream",
     "text": [
      "list of integers: [45, 78]\n",
      "list of floating values: [67.0, 90.09]\n",
      "list of string: ['poornima', 'female', '76u']\n"
     ]
    }
   ],
   "source": [
    "# 19. From a list containing ints, strings and floats, make three lists to store them separately\n",
    "\n",
    "list1=[45, \"poornima\", 67.0, \"female\", \"76u\", 78, 90.09]\n",
    "int1=[]\n",
    "float1=[]\n",
    "str1=[]\n",
    "for i in list1:\n",
    "    if type(i)==int:\n",
    "        int1.append(i)\n",
    "    elif type(i)==str:\n",
    "        str1.append(i)\n",
    "    elif type(i)==float:\n",
    "        float1.append(i)\n",
    "print(\"list of integers:\", int1)\n",
    "print(\"list of floating values:\", float1)\n",
    "print(\"list of string:\", str1)"
   ]
  },
  {
   "cell_type": "code",
   "execution_count": 191,
   "id": "0587d35b",
   "metadata": {},
   "outputs": [
    {
     "name": "stdout",
     "output_type": "stream",
     "text": [
      "The squared list is: [1, 4, 9, 16, 25]\n"
     ]
    }
   ],
   "source": [
    "# 20.You are given with a list of integer elements. Make a new list which will store square of elements of previous list.\n",
    "prev=[1, 2, 3, 4, 5]\n",
    "square_list=[]\n",
    "for i in prev:\n",
    "    square_list.append(i**2)\n",
    "print(\"The squared list is:\", square_list)"
   ]
  },
  {
   "cell_type": "code",
   "execution_count": null,
   "id": "03a8c424",
   "metadata": {},
   "outputs": [],
   "source": []
  }
 ],
 "metadata": {
  "kernelspec": {
   "display_name": "Python 3 (ipykernel)",
   "language": "python",
   "name": "python3"
  },
  "language_info": {
   "codemirror_mode": {
    "name": "ipython",
    "version": 3
   },
   "file_extension": ".py",
   "mimetype": "text/x-python",
   "name": "python",
   "nbconvert_exporter": "python",
   "pygments_lexer": "ipython3",
   "version": "3.9.7"
  }
 },
 "nbformat": 4,
 "nbformat_minor": 5
}
