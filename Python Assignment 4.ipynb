{
 "cells": [
  {
   "cell_type": "code",
   "execution_count": 1,
   "id": "660cefe6",
   "metadata": {},
   "outputs": [
    {
     "name": "stdout",
     "output_type": "stream",
     "text": [
      "8\n"
     ]
    }
   ],
   "source": [
    "#1 write a python program to calculate the length of string\n",
    "a='poornima'\n",
    "print(len(a))"
   ]
  },
  {
   "cell_type": "code",
   "execution_count": 2,
   "id": "f481bd97",
   "metadata": {},
   "outputs": [
    {
     "name": "stdout",
     "output_type": "stream",
     "text": [
      "8\n"
     ]
    }
   ],
   "source": [
    "a='poornima'\n",
    "count=0\n",
    "for i in a:\n",
    "    count+=1\n",
    "print(count)"
   ]
  },
  {
   "cell_type": "code",
   "execution_count": 12,
   "id": "5c540c49",
   "metadata": {},
   "outputs": [
    {
     "name": "stdout",
     "output_type": "stream",
     "text": [
      "{'g': 2, 'o': 3, 'l': 1, 'e': 1, '.': 1, 'c': 1, 'm': 1}\n"
     ]
    }
   ],
   "source": [
    "# 2. Write a Python program to count the number of characters (character frequency) in a string. \n",
    "# Sample String : google.com\n",
    "# Expected Result : {'o': 3, 'g': 2, '.': 1, 'e': 1, 'l': 1, 'm': 1, 'c': 1}\n",
    "\n",
    "def char_frequency(str1):\n",
    "    dict1={}\n",
    "    for n in str1:\n",
    "        keys=dict1.keys()\n",
    "        if n in keys:\n",
    "            dict1[n]+=1\n",
    "        else:\n",
    "            dict1[n]=1\n",
    "    return dict1\n",
    "print(char_frequency('google.com'))\n",
    "   "
   ]
  },
  {
   "cell_type": "code",
   "execution_count": 13,
   "id": "2851d6cf",
   "metadata": {},
   "outputs": [
    {
     "name": "stdout",
     "output_type": "stream",
     "text": [
      "{'o': 3, 'g': 2, 'l': 1, 'e': 1, '.': 1, 'c': 1, 'm': 1}\n"
     ]
    }
   ],
   "source": [
    "def char_frequency(str1):\n",
    "    dict1 = {}\n",
    "    for n in str1:\n",
    "        if n in dict1:\n",
    "            dict1[n] += 1\n",
    "        else:\n",
    "            dict1[n] = 1\n",
    "    return dict1\n",
    "\n",
    "string = 'google.com'\n",
    "frequency_dict = char_frequency(string)\n",
    "\n",
    "sorted_dict = dict(sorted(frequency_dict.items(), key=lambda x: x[1], reverse=True))\n",
    "\n",
    "print(sorted_dict)\n"
   ]
  },
  {
   "cell_type": "code",
   "execution_count": 14,
   "id": "57d1609d",
   "metadata": {},
   "outputs": [
    {
     "name": "stdout",
     "output_type": "stream",
     "text": [
      "thne\n",
      "abab\n",
      "Empty string\n"
     ]
    }
   ],
   "source": [
    "# 3.  Write a Python program to get a string made of the first 2 and the last 2 chars from a given a string. If the string length is less than 2, return instead of the empty string. \n",
    "# Sample String : 'thisisniceone'\n",
    "# Expected Result : 'thne”'\n",
    "# Sample String : 'ab'\n",
    "# Expected Result : 'abab'\n",
    "# Sample String : 'f'\n",
    "# Expected Result : Empty String\n",
    "\n",
    "\n",
    "\n",
    "def fun(st):\n",
    "  le=len(st)\n",
    "  if le==2:\n",
    "    print(st+st)\n",
    "  elif le==1:\n",
    "    print(\"Empty string\")\n",
    "  else:\n",
    "    print(st[:2]+st[-2:])\n",
    "\n",
    "fun(\"thisisniceone\")\n",
    "fun(\"ab\")\n",
    "fun('a')"
   ]
  },
  {
   "cell_type": "code",
   "execution_count": 16,
   "id": "516f9bfc",
   "metadata": {},
   "outputs": [
    {
     "data": {
      "text/plain": [
       "'resta$t'"
      ]
     },
     "execution_count": 16,
     "metadata": {},
     "output_type": "execute_result"
    }
   ],
   "source": [
    "#4. Write a Python program to get a string from a given string where all occurrences of its first char have been changed to '$', except the first char itself.\n",
    "# Sample String : 'restart'\n",
    "# Expected Result : 'resta$t'\n",
    "\n",
    "def function(st):\n",
    "  c=st[0]\n",
    "  st=st.replace(c,'$')\n",
    "  st=c+st[1:]\n",
    "  return st\n",
    "    \n",
    "function('restart')"
   ]
  },
  {
   "cell_type": "code",
   "execution_count": 17,
   "id": "6ffbb2a2",
   "metadata": {},
   "outputs": [
    {
     "name": "stdout",
     "output_type": "stream",
     "text": [
      "xyc abz\n"
     ]
    }
   ],
   "source": [
    "#5. Write a Python program to get a single string from two given strings, separated by a space and swap the first two characters of each string.\n",
    "# Sample String : 'abc', 'xyz' \n",
    "# Expected Result : 'xyc abz'\n",
    "list =['abc','xyz']\n",
    "ch1=list[0][0:2]\n",
    "ch2= list[1][0:2]\n",
    "str1 = ch1+ list[1][2]\n",
    "str2 = ch2+ list[0][2]\n",
    "print(str2, str1)"
   ]
  },
  {
   "cell_type": "code",
   "execution_count": 19,
   "id": "0a3b4567",
   "metadata": {},
   "outputs": [
    {
     "name": "stdout",
     "output_type": "stream",
     "text": [
      "stringly\n",
      "abcing\n",
      "ab\n"
     ]
    }
   ],
   "source": [
    "#6. Write a Python program to add 'ing' at the end of a given string (length should be at least 3). If the given string already ends with 'ing' then add 'ly' instead. If the string length of the given string is less than 3, leave it unchanged.\n",
    "# Sample String : 'abc'\n",
    "# Expected Result : 'abcing' \n",
    "# Sample String : 'string'\n",
    "# Expected Result : 'stringly'\n",
    "\n",
    "def change_string_end(str):\n",
    "  if len(str) < 3:\n",
    "    print(str)\n",
    "  elif str.endswith('ing'):\n",
    "    print(str+'ly')\n",
    "  else:\n",
    "    print(str + 'ing')\n",
    "\n",
    "change_string_end('string')\n",
    "change_string_end('abc')\n",
    "change_string_end('ab')"
   ]
  },
  {
   "cell_type": "code",
   "execution_count": 20,
   "id": "7bb11aa9",
   "metadata": {},
   "outputs": [
    {
     "name": "stdout",
     "output_type": "stream",
     "text": [
      "The lyrics is good!\n",
      "The lyrics is poor!\n"
     ]
    }
   ],
   "source": [
    "#7. Write a Python program to find the first appearance of the substring 'not' and 'poor' from a given string, if 'not' follows the 'poor', replace the whole 'not'...'poor' substring with 'good'. Return the resulting string.\n",
    "# Sample String : 'The lyrics is not that poor!'\n",
    "# 'The lyrics is poor!'\n",
    "# Expected Result : 'The lyrics is good!'\n",
    "# 'The lyrics is poor!'\n",
    "\n",
    "def fun(str):\n",
    "  if \"not that poor\" in str:\n",
    "    str= str.replace('not that poor','good')\n",
    "  print(str)\n",
    "\n",
    "fun('The lyrics is not that poor!')\n",
    "fun('The lyrics is poor!')"
   ]
  },
  {
   "cell_type": "code",
   "execution_count": 22,
   "id": "d5fe402a",
   "metadata": {},
   "outputs": [
    {
     "name": "stdout",
     "output_type": "stream",
     "text": [
      "13\n"
     ]
    }
   ],
   "source": [
    "# 8. Write a Python function that takes a list of words and returns the length of the longest one. \n",
    "\n",
    "def fun(li):\n",
    "  lis1=li[0]\n",
    "  lis=[]\n",
    "  for i in li:\n",
    "    if len(i)>len(lis1):\n",
    "      lis=[i]\n",
    "    else:\n",
    "      lis=[lis1]\n",
    "  print(len(lis[0]))\n",
    "\n",
    "fun([\"work\",\"worship\",\"workisworship\"])"
   ]
  },
  {
   "cell_type": "code",
   "execution_count": 25,
   "id": "c11205bf",
   "metadata": {},
   "outputs": [
    {
     "name": "stdout",
     "output_type": "stream",
     "text": [
      "poornim\n"
     ]
    }
   ],
   "source": [
    "# 9. Write a Python program to remove the nth index character from a nonempty string.\n",
    "\n",
    "str = 'poornima'\n",
    "print(str[:-1])"
   ]
  },
  {
   "cell_type": "code",
   "execution_count": 54,
   "id": "eb4df970",
   "metadata": {},
   "outputs": [
    {
     "name": "stdout",
     "output_type": "stream",
     "text": [
      "Input comma separated sequence of words: red, white, black, red, green, black\n",
      "['black', 'green', 'red', 'white']\n"
     ]
    }
   ],
   "source": [
    "# 10. Write a Python program that accepts a comma separated sequence of words as input and prints the unique words in sorted form (alphanumerically). \n",
    "# Sample Words : red, white, black, red, green, black\n",
    "# Expected Result : black, green, red, white\n",
    "\n",
    "items = input(\"Input comma separated sequence of words: \")\n",
    "words=[]\n",
    "for word in items.split(\",\"):\n",
    "    words.append(word.strip())\n",
    "#     print(word)\n",
    "# print(word)   \n",
    "words=set(words)\n",
    "# print(words)\n",
    "words=sorted(words)\n",
    "print(words)"
   ]
  },
  {
   "cell_type": "code",
   "execution_count": 41,
   "id": "267a5294",
   "metadata": {},
   "outputs": [
    {
     "name": "stdout",
     "output_type": "stream",
     "text": [
      "hgfedcba\n"
     ]
    }
   ],
   "source": [
    "# 11. Write a Python function to reverses a string if it's length is a multiple of 4\n",
    "a= 'abcdefgh'\n",
    "# print(len(a))\n",
    "\n",
    "if (len(a) % 4) == 0:\n",
    "  print(a[::-1])\n",
    "else:\n",
    "  print(\" it's length is not a multiple of 4\")"
   ]
  },
  {
   "cell_type": "code",
   "execution_count": 43,
   "id": "7f0cf836",
   "metadata": {},
   "outputs": [
    {
     "name": "stdout",
     "output_type": "stream",
     "text": [
      "enter any string: POOdejwnjfn\n",
      "POODEJWNJFN\n"
     ]
    }
   ],
   "source": [
    "#12.  Write a Python function to convert a given string to all uppercase if it contains at least 2 uppercase characters in the first 4 characters.\n",
    "\n",
    "a = input('enter any string: ')\n",
    "b=a[0:2].isupper()\n",
    "if b== True:\n",
    "  print(a.upper())\n",
    "else:\n",
    "  print('input is incorrect')\n"
   ]
  },
  {
   "cell_type": "code",
   "execution_count": 46,
   "id": "83e89b60",
   "metadata": {},
   "outputs": [
    {
     "name": "stdout",
     "output_type": "stream",
     "text": [
      "enter any string: poornima\n",
      "enter any specified character: f\n",
      "The given string not starts with a specified character..\n"
     ]
    }
   ],
   "source": [
    "#13. Write a Python program to check whether a string starts with specified characters.\n",
    "\n",
    "str = input('enter any string: ')\n",
    "char = input('enter any specified character: ')\n",
    "\n",
    "if str[0] == char:\n",
    "  print('The given string starts with a specified character')\n",
    "else:\n",
    "  print('The given string not starts with a specified character..')"
   ]
  },
  {
   "cell_type": "code",
   "execution_count": 52,
   "id": "be9d711c",
   "metadata": {},
   "outputs": [
    {
     "name": "stdout",
     "output_type": "stream",
     "text": [
      "enter any number: 3.1415926\n",
      "3.14\n"
     ]
    }
   ],
   "source": [
    "#14. Write a Python program to print the following floating numbers upto 2 decimal places.\n",
    "# 3.1415926\n",
    "\n",
    "number = float(input('enter any number: '))\n",
    "print(f\"{number:.2f}\")"
   ]
  },
  {
   "cell_type": "code",
   "execution_count": 55,
   "id": "bbf580f4",
   "metadata": {},
   "outputs": [
    {
     "name": "stdout",
     "output_type": "stream",
     "text": [
      "enter any number: 3.1415926\n",
      "3.14\n"
     ]
    }
   ],
   "source": [
    "number = float(input('enter any number: '))\n",
    "float_num = \"{:.2f}\".format(number)\n",
    "print(float_num)"
   ]
  },
  {
   "cell_type": "code",
   "execution_count": 88,
   "id": "ca63b0a5",
   "metadata": {},
   "outputs": [
    {
     "name": "stdout",
     "output_type": "stream",
     "text": [
      "o 4\n",
      "e 3\n",
      "t 2\n",
      "h 2\n",
      "u 2\n",
      "r 2\n"
     ]
    }
   ],
   "source": [
    "# 15. Write a Python program to count repeated characters in a string.\n",
    "# Sample string: 'thequickbrownfoxjumpsoverthelazydog'\n",
    "# Expected output :\n",
    "# o 4\n",
    "# e 3\n",
    "# u 2\n",
    "# h 2\n",
    "# r 2\n",
    "# t 2\n",
    "\n",
    "\n",
    "def char_frequency(str1):\n",
    "    dict1 = {}\n",
    "    for n in str1:\n",
    "        if n in dict1:\n",
    "            dict1[n] += 1\n",
    "        else:\n",
    "            dict1[n] = 1\n",
    "    return dict1\n",
    "\n",
    "string = 'thequickbrownfoxjumpsoverthelazydog'\n",
    "frequency_dict = char_frequency(string)\n",
    "\n",
    "sorted_dict = dict(sorted(frequency_dict.items(), key=lambda x: x[1], reverse=True))\n",
    "        \n",
    "\n",
    "for value in sorted_dict.keys():\n",
    "#     print(value)\n",
    "    if sorted_dict[value]>1:\n",
    "        print(value, sorted_dict[value])"
   ]
  },
  {
   "cell_type": "code",
   "execution_count": 133,
   "id": "c59e3652",
   "metadata": {},
   "outputs": [
    {
     "name": "stdout",
     "output_type": "stream",
     "text": [
      "P : 0\n",
      "y : 1\n",
      "t : 2\n",
      "h : 3\n",
      "o : 4\n",
      "n : 5\n"
     ]
    }
   ],
   "source": [
    "# 16. Write a Python program to print the index of the character in a string.\n",
    "\n",
    "str1=\"Python\"\n",
    "\n",
    "for i in str1:\n",
    "#     print(i)\n",
    "    print(i,\":\", str1.index(i))\n"
   ]
  },
  {
   "cell_type": "code",
   "execution_count": 109,
   "id": "416e6ebc",
   "metadata": {},
   "outputs": [
    {
     "name": "stdout",
     "output_type": "stream",
     "text": [
      "['P', 'y', 't', 'h', 'o', 'n']\n"
     ]
    }
   ],
   "source": [
    "# 17. Write a Python program to convert a string in a list.\n",
    "\n",
    "str1=\"Python\"\n",
    "li=[]\n",
    "for i in str1: \n",
    "    li+=[i]\n",
    "print(li)"
   ]
  },
  {
   "cell_type": "code",
   "execution_count": 140,
   "id": "9952dae5",
   "metadata": {},
   "outputs": [
    {
     "name": "stdout",
     "output_type": "stream",
     "text": [
      "Enter a string: 32.054,23\n",
      "The expected output is:  32,054.23\n"
     ]
    }
   ],
   "source": [
    "''' 18. Write a Python program to swap comma and dot in a string.\n",
    "Sample string: \"32.054,23\"\n",
    "Expected Output: \"32,054.23\" '''\n",
    "\n",
    "str1= input(\"Enter a string: \")\n",
    "result=\"\"\n",
    "for i in str1:\n",
    "    if i==\".\":\n",
    "        result+=\",\"\n",
    "    elif i==\",\":\n",
    "        result+= \".\"\n",
    "    else:\n",
    "        result+=i\n",
    "print(\"The expected output is: \",result)"
   ]
  },
  {
   "cell_type": "code",
   "execution_count": 200,
   "id": "cc5f8109",
   "metadata": {},
   "outputs": [
    {
     "name": "stdout",
     "output_type": "stream",
     "text": [
      "Enter a string: Write a Python program to remove all consecutive duplicates of a given string\n",
      "The smallest word and its length is:  a - 1\n",
      "The largest word and its length is:  consecutive - 11\n",
      "a 1\n",
      "consecutive 11\n"
     ]
    }
   ],
   "source": [
    "# 19. Write a Python program to find smallest and largest word in a given string.\n",
    "\n",
    "str1= input(\"Enter a string: \")\n",
    "str1=str1.split()\n",
    "min1=str1[0]\n",
    "# print(list1)\n",
    "max1=str1[0]\n",
    "# print(result)\n",
    "for i in str1:\n",
    "    if len(i)<len(min1):\n",
    "        min1=i\n",
    "#         print(list1)\n",
    "    elif len(i)>len(max1):\n",
    "        max1=i\n",
    "        \n",
    "print(\"The smallest word and its length is: \", min1,\"-\" ,len(min1))\n",
    "print(\"The largest word and its length is: \", max1,\"-\", len(max1))\n",
    "      "
   ]
  },
  {
   "cell_type": "code",
   "execution_count": 1,
   "id": "a6a31266",
   "metadata": {},
   "outputs": [
    {
     "name": "stdout",
     "output_type": "stream",
     "text": [
      "pornima\n"
     ]
    }
   ],
   "source": [
    "#  Write a Python program to remove all consecutive duplicates of a given string.\n",
    "a=\"poornima\"\n",
    "prev=''\n",
    "res=''\n",
    "for i in a:\n",
    "    if i != prev:\n",
    "#         print(i)\n",
    "        res+=i\n",
    "        prev=i\n",
    "print(res)"
   ]
  },
  {
   "cell_type": "code",
   "execution_count": null,
   "id": "ca8df305",
   "metadata": {},
   "outputs": [],
   "source": []
  }
 ],
 "metadata": {
  "kernelspec": {
   "display_name": "Python 3 (ipykernel)",
   "language": "python",
   "name": "python3"
  },
  "language_info": {
   "codemirror_mode": {
    "name": "ipython",
    "version": 3
   },
   "file_extension": ".py",
   "mimetype": "text/x-python",
   "name": "python",
   "nbconvert_exporter": "python",
   "pygments_lexer": "ipython3",
   "version": "3.9.7"
  }
 },
 "nbformat": 4,
 "nbformat_minor": 5
}
